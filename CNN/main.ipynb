{
 "cells": [
  {
   "cell_type": "code",
   "execution_count": 0,
   "metadata": {
    "colab": {},
    "colab_type": "code",
    "id": "59kYoHcIthOw",
    "scrolled": true
   },
   "outputs": [],
   "source": [
    "import torch\n",
    "import random\n",
    "import numpy as np\n",
    "\n",
    "random.seed(0)\n",
    "np.random.seed(0)\n",
    "torch.manual_seed(0)\n",
    "torch.cuda.manual_seed(0)\n",
    "torch.backends.cudnn.deterministic = True"
   ]
  },
  {
   "cell_type": "code",
   "execution_count": 0,
   "metadata": {
    "colab": {},
    "colab_type": "code",
    "id": "C29ydFmCthO4"
   },
   "outputs": [],
   "source": [
    "import matplotlib.pyplot as plt\n",
    "import torchvision.datasets\n",
    "from google.colab import drive\n",
    "import sys"
   ]
  },
  {
   "cell_type": "code",
   "execution_count": 3,
   "metadata": {
    "colab": {
     "base_uri": "https://localhost:8080/",
     "height": 122
    },
    "colab_type": "code",
    "executionInfo": {
     "elapsed": 24078,
     "status": "ok",
     "timestamp": 1584911660238,
     "user": {
      "displayName": "",
      "photoUrl": "",
      "userId": ""
     },
     "user_tz": -180
    },
    "id": "fOoZUrUrthPB",
    "outputId": "6243e615-aca8-4590-eada-06f41b041fc0"
   },
   "outputs": [
    {
     "name": "stdout",
     "output_type": "stream",
     "text": [
      "Go to this URL in a browser: https://accounts.google.com/o/oauth2/auth?client_id=947318989803-6bn6qk8qdgf4n4g3pfee6491hc0brc4i.apps.googleusercontent.com&redirect_uri=urn%3aietf%3awg%3aoauth%3a2.0%3aoob&response_type=code&scope=email%20https%3a%2f%2fwww.googleapis.com%2fauth%2fdocs.test%20https%3a%2f%2fwww.googleapis.com%2fauth%2fdrive%20https%3a%2f%2fwww.googleapis.com%2fauth%2fdrive.photos.readonly%20https%3a%2f%2fwww.googleapis.com%2fauth%2fpeopleapi.readonly\n",
      "\n",
      "Enter your authorization code:\n",
      "··········\n",
      "Mounted at /content/drive\n"
     ]
    }
   ],
   "source": [
    "drive.mount('/content/drive')\n",
    "sys.path.append('drive/My Drive/Colab Notebooks')"
   ]
  },
  {
   "cell_type": "code",
   "execution_count": 0,
   "metadata": {
    "colab": {},
    "colab_type": "code",
    "id": "gfztaxT8thPG"
   },
   "outputs": [],
   "source": [
    "from LeNet5 import *\n",
    "from FirstCustomNN import *\n",
    "from SecondCustomNN import *"
   ]
  },
  {
   "cell_type": "code",
   "execution_count": 0,
   "metadata": {
    "colab": {},
    "colab_type": "code",
    "id": "MKLZG9ySthPL"
   },
   "outputs": [],
   "source": [
    "def trainig(neural_network, X_test, y_test):\n",
    "    device = torch.device('cuda:0' if torch.cuda.is_available() else 'cpu')\n",
    "    neural_network = neural_network.to(device)\n",
    "\n",
    "    loss = torch.nn.CrossEntropyLoss()\n",
    "    optimizer = torch.optim.Adam(neural_network.parameters(), lr=1.0e-3)\n",
    "\n",
    "    batch_size = 100\n",
    "\n",
    "    test_accuracy_history = []\n",
    "    test_loss_history = []\n",
    "\n",
    "    X_test = X_test.to(device)\n",
    "    y_test = y_test.to(device)\n",
    "\n",
    "    for epoch in range(15):\n",
    "        order = np.random.permutation(len(X_train))\n",
    "        for start_index in range(0, len(X_train), batch_size):\n",
    "            optimizer.zero_grad()\n",
    "          \n",
    "            batch_indexes = order[start_index:start_index+batch_size]\n",
    "          \n",
    "            X_batch = X_train[batch_indexes].to(device)\n",
    "            y_batch = y_train[batch_indexes].to(device)\n",
    "          \n",
    "            preds = neural_network.forward(X_batch) \n",
    "          \n",
    "            loss_value = loss(preds, y_batch)\n",
    "            loss_value.backward()\n",
    "          \n",
    "            optimizer.step()\n",
    "          \n",
    "        test_preds = neural_network.forward(X_test)\n",
    "        test_loss_history.append(loss(test_preds, y_test).data.cpu())\n",
    "      \n",
    "        accuracy = (test_preds.argmax(dim=1) == y_test).float().mean().data.cpu()\n",
    "        test_accuracy_history.append(accuracy)\n",
    "      \n",
    "        print(\"error rate: \" + str(1 - accuracy))\n",
    "\n",
    "    return test_accuracy_history"
   ]
  },
  {
   "cell_type": "code",
   "execution_count": 0,
   "metadata": {
    "colab": {},
    "colab_type": "code",
    "id": "LGJY9qsPthPT",
    "scrolled": true
   },
   "outputs": [],
   "source": [
    "MNIST_train = torchvision.datasets.MNIST('./', download=True, train=True)\n",
    "MNIST_test = torchvision.datasets.MNIST('./', download=True, train=False)"
   ]
  },
  {
   "cell_type": "code",
   "execution_count": 8,
   "metadata": {
    "colab": {
     "base_uri": "https://localhost:8080/",
     "height": 153
    },
    "colab_type": "code",
    "executionInfo": {
     "elapsed": 904,
     "status": "ok",
     "timestamp": 1584911680588,
     "user": {
      "displayName": "",
      "photoUrl": "",
      "userId": ""
     },
     "user_tz": -180
    },
    "id": "vWS2JMB3thPg",
    "outputId": "fbac9f0d-0f27-4153-a102-3664a74af73a"
   },
   "outputs": [
    {
     "name": "stderr",
     "output_type": "stream",
     "text": [
      "/usr/local/lib/python3.6/dist-packages/torchvision/datasets/mnist.py:55: UserWarning: train_data has been renamed data\n",
      "  warnings.warn(\"train_data has been renamed data\")\n",
      "/usr/local/lib/python3.6/dist-packages/torchvision/datasets/mnist.py:45: UserWarning: train_labels has been renamed targets\n",
      "  warnings.warn(\"train_labels has been renamed targets\")\n",
      "/usr/local/lib/python3.6/dist-packages/torchvision/datasets/mnist.py:60: UserWarning: test_data has been renamed data\n",
      "  warnings.warn(\"test_data has been renamed data\")\n",
      "/usr/local/lib/python3.6/dist-packages/torchvision/datasets/mnist.py:50: UserWarning: test_labels has been renamed targets\n",
      "  warnings.warn(\"test_labels has been renamed targets\")\n"
     ]
    }
   ],
   "source": [
    "X_train = MNIST_train.train_data\n",
    "y_train = MNIST_train.train_labels\n",
    "X_test = MNIST_test.test_data\n",
    "y_test = MNIST_test.test_labels"
   ]
  },
  {
   "cell_type": "code",
   "execution_count": 0,
   "metadata": {
    "colab": {},
    "colab_type": "code",
    "id": "1KC0Byw-thPk"
   },
   "outputs": [],
   "source": [
    "X_train = X_train.unsqueeze(1).float()\n",
    "X_test = X_test.unsqueeze(1).float()"
   ]
  },
  {
   "cell_type": "code",
   "execution_count": 10,
   "metadata": {
    "colab": {
     "base_uri": "https://localhost:8080/",
     "height": 323
    },
    "colab_type": "code",
    "executionInfo": {
     "elapsed": 43156,
     "status": "ok",
     "timestamp": 1584911722865,
     "user": {
      "displayName": "",
      "photoUrl": "",
      "userId": ""
     },
     "user_tz": -180
    },
    "id": "f43nGC5YthPo",
    "outputId": "d663bd21-4636-431e-b4aa-7f0188770d07"
   },
   "outputs": [
    {
     "name": "stdout",
     "output_type": "stream",
     "text": [
      "\n",
      "\n",
      "\n",
      "error rate: tensor(0.0308)\n",
      "error rate: tensor(0.0197)\n",
      "error rate: tensor(0.0152)\n",
      "error rate: tensor(0.0122)\n",
      "error rate: tensor(0.0115)\n",
      "error rate: tensor(0.0103)\n",
      "error rate: tensor(0.0113)\n",
      "error rate: tensor(0.0082)\n",
      "error rate: tensor(0.0093)\n",
      "error rate: tensor(0.0074)\n",
      "error rate: tensor(0.0075)\n",
      "error rate: tensor(0.0066)\n",
      "error rate: tensor(0.0071)\n",
      "error rate: tensor(0.0069)\n",
      "error rate: tensor(0.0059)\n"
     ]
    }
   ],
   "source": [
    "lenet5 = LeNet5()\n",
    "lenet5_accuracy_history = trainig(lenet5, X_train, y_train)"
   ]
  },
  {
   "cell_type": "code",
   "execution_count": 11,
   "metadata": {
    "colab": {
     "base_uri": "https://localhost:8080/",
     "height": 272
    },
    "colab_type": "code",
    "executionInfo": {
     "elapsed": 73855,
     "status": "ok",
     "timestamp": 1584911753572,
     "user": {
      "displayName": "",
      "photoUrl": "",
      "userId": ""
     },
     "user_tz": -180
    },
    "id": "ymc9RjhWthPu",
    "outputId": "2b736d40-f160-468f-8974-67ad33376fb3"
   },
   "outputs": [
    {
     "name": "stdout",
     "output_type": "stream",
     "text": [
      "error rate: tensor(0.0403)\n",
      "error rate: tensor(0.0292)\n",
      "error rate: tensor(0.0219)\n",
      "error rate: tensor(0.0188)\n",
      "error rate: tensor(0.0174)\n",
      "error rate: tensor(0.0141)\n",
      "error rate: tensor(0.0124)\n",
      "error rate: tensor(0.0113)\n",
      "error rate: tensor(0.0095)\n",
      "error rate: tensor(0.0116)\n",
      "error rate: tensor(0.0090)\n",
      "error rate: tensor(0.0096)\n",
      "error rate: tensor(0.0083)\n",
      "error rate: tensor(0.0077)\n",
      "error rate: tensor(0.0115)\n"
     ]
    }
   ],
   "source": [
    "first_custom = FirstCustomNN()\n",
    "first_custom_accuracy_history = trainig(first_custom, X_train, y_train)"
   ]
  },
  {
   "cell_type": "code",
   "execution_count": 12,
   "metadata": {
    "colab": {
     "base_uri": "https://localhost:8080/",
     "height": 272
    },
    "colab_type": "code",
    "executionInfo": {
     "elapsed": 36723,
     "status": "ok",
     "timestamp": 1584911790307,
     "user": {
      "displayName": "",
      "photoUrl": "",
      "userId": ""
     },
     "user_tz": -180
    },
    "id": "xOWDY_s8thP2",
    "outputId": "25b0010a-c655-4362-ad77-3ee5170b7a1c"
   },
   "outputs": [
    {
     "name": "stdout",
     "output_type": "stream",
     "text": [
      "error rate: tensor(0.0338)\n",
      "error rate: tensor(0.0207)\n",
      "error rate: tensor(0.0170)\n",
      "error rate: tensor(0.0133)\n",
      "error rate: tensor(0.0137)\n",
      "error rate: tensor(0.0123)\n",
      "error rate: tensor(0.0143)\n",
      "error rate: tensor(0.0090)\n",
      "error rate: tensor(0.0084)\n",
      "error rate: tensor(0.0074)\n",
      "error rate: tensor(0.0074)\n",
      "error rate: tensor(0.0082)\n",
      "error rate: tensor(0.0083)\n",
      "error rate: tensor(0.0076)\n",
      "error rate: tensor(0.0059)\n"
     ]
    }
   ],
   "source": [
    "second_custom = Custom_2()\n",
    "second_custom_accuracy_history = trainig(second_custom, X_train, y_train)"
   ]
  },
  {
   "cell_type": "code",
   "execution_count": 13,
   "metadata": {
    "colab": {
     "base_uri": "https://localhost:8080/",
     "height": 265
    },
    "colab_type": "code",
    "executionInfo": {
     "elapsed": 36716,
     "status": "ok",
     "timestamp": 1584911790308,
     "user": {
      "displayName": "",
      "photoUrl": "",
      "userId": ""
     },
     "user_tz": -180
    },
    "id": "9TtDUd7gthP5",
    "outputId": "a78095d6-9a31-4781-a08a-e143576d5b22"
   },
   "outputs": [
    {
     "data": {
      "image/png": "[encoded data removed]",
      "text/plain": [
       "<Figure size 432x288 with 1 Axes>"
      ]
     },
     "metadata": {
      "tags": []
     },
     "output_type": "display_data"
    }
   ],
   "source": [
    "plt.plot(lenet5_accuracy_history, color ='blue');\n",
    "plt.plot(first_custom_accuracy_history, color=\"darkorange\");\n",
    "plt.plot(second_custom_accuracy_history, color=\"green\");"
   ]
  },
  {
   "cell_type": "code",
   "execution_count": 14,
   "metadata": {
    "colab": {
     "base_uri": "https://localhost:8080/",
     "height": 350
    },
    "colab_type": "code",
    "executionInfo": {
     "elapsed": 37266,
     "status": "ok",
     "timestamp": 1584911790867,
     "user": {
      "displayName": "",
      "photoUrl": "",
      "userId": ""
     },
     "user_tz": -180
    },
    "id": "_Y6cJZZKthP8",
    "outputId": "92c19aa6-42cb-430b-ee20-f5f64c4d0209"
   },
   "outputs": [
    {
     "name": "stderr",
     "output_type": "stream",
     "text": [
      "/usr/local/lib/python3.6/dist-packages/torchvision/datasets/mnist.py:60: UserWarning: test_data has been renamed data\n",
      "  warnings.warn(\"test_data has been renamed data\")\n"
     ]
    },
    {
     "data": {
      "image/png": "[encoded data removed]",
      "text/plain": [
       "<Figure size 432x288 with 1 Axes>"
      ]
     },
     "metadata": {
      "tags": []
     },
     "output_type": "display_data"
    },
    {
     "name": "stdout",
     "output_type": "stream",
     "text": [
      "tensor(7)\n"
     ]
    },
    {
     "name": "stderr",
     "output_type": "stream",
     "text": [
      "/usr/local/lib/python3.6/dist-packages/torchvision/datasets/mnist.py:50: UserWarning: test_labels has been renamed targets\n",
      "  warnings.warn(\"test_labels has been renamed targets\")\n"
     ]
    }
   ],
   "source": [
    "plt.imshow(MNIST_test.test_data[0, :, :])\n",
    "plt.show()\n",
    "print(MNIST_test.test_labels[0])"
   ]
  }
 ],
 "metadata": {
  "accelerator": "GPU",
  "colab": {
   "name": "Copy of main.ipynb",
   "provenance": [
    {
     "file_id": "https://github.com/AnneKsatn/IS-ML-2020/blob/master/CNN/main.ipynb",
     "timestamp": 1584911814224
    }
   ]
  },
  "kernelspec": {
   "display_name": "Python 3",
   "language": "python",
   "name": "python3"
  },
  "language_info": {
   "codemirror_mode": {
    "name": "ipython",
    "version": 3
   },
   "file_extension": ".py",
   "mimetype": "text/x-python",
   "name": "python",
   "nbconvert_exporter": "python",
   "pygments_lexer": "ipython3",
   "version": "3.7.4"
  }
 },
 "nbformat": 4,
 "nbformat_minor": 1
}
