{
 "cells": [
  {
   "cell_type": "code",
   "execution_count": null,
   "metadata": {},
   "outputs": [],
   "source": [
    "import numpy as np\n",
    "from sklearn.metrics import pairwise_distances_argmin\n",
    "from sklearn.metrics.pairwise import euclidean_distances"
   ]
  },
  {
   "cell_type": "code",
   "execution_count": 1,
   "metadata": {},
   "outputs": [],
   "source": [
    "def find_clusters(X, n_clusters, rseed=3):\n",
    "    \n",
    "    rng = np.random.RandomState(rseed)\n",
    "    i = rng.permutation(X.shape[0])[:n_clusters]\n",
    "    \n",
    "    centers = X[i]\n",
    "\n",
    "    while True:\n",
    "        \n",
    "        #возвращает номер объекта, к которому Xi ближе всего\n",
    "        labels = pairwise_distances_argmin(X, centers)\n",
    "        \n",
    "        new_centers = np.array([X[labels == i].mean(0) for i in range(n_clusters)])\n",
    "        \n",
    "        if np.all(centers == new_centers):\n",
    "            break\n",
    "            \n",
    "        centers = new_centers\n",
    "    return centers, labels"
   ]
  },
  {
   "cell_type": "code",
   "execution_count": null,
   "metadata": {},
   "outputs": [],
   "source": [
    "def fakt(n):\n",
    "    r = 1\n",
    "    for i in range(n):\n",
    "        i = i + 1\n",
    "        r*=i;\n",
    "    return r;\n",
    "\n",
    "def bci(n,k):\n",
    "    return fakt(n)/(fakt(k)*fakt(n-k));"
   ]
  },
  {
   "cell_type": "code",
   "execution_count": 2,
   "metadata": {},
   "outputs": [],
   "source": [
    "def adjusted_rand_index(confusion_matrix):\n",
    "    \n",
    "    length = len(confusion_matrix)\n",
    "    n_ij = np.array([bci(x, 2) for x in list(confusion_matrix.reshape(length**2))]).sum()\n",
    "    a_i = np.array([bci(x, 2) for x in list(confusion_matrix.sum(axis=0))]).sum()\n",
    "    b_j = np.array([bci(x, 2) for x in list(confusion_matrix.sum(axis=1))]).sum()\n",
    "    \n",
    "    c = bci(confusion_matrix.sum(),2)\n",
    "    e = a_i*b_j/c\n",
    "\n",
    "    ari = (n_ij - e) / (1/2*(a_i+b_j) - e)\n",
    "    \n",
    "    return ari"
   ]
  },
  {
   "cell_type": "code",
   "execution_count": null,
   "metadata": {},
   "outputs": [],
   "source": [
    "def silhouette(x, labels, centers):\n",
    "    silhouette = []\n",
    "    \n",
    "    for index, item in enumerate(x):\n",
    "        \n",
    "        label_item = labels[index]\n",
    "        label_closest_cluster = findClosestCluster(x, index, centers)\n",
    "\n",
    "        a = np.mean(euclidean_distances([list(item)], x[labels == label_item]))\n",
    "        b = np.mean(euclidean_distances([list(item)], x[labels == label_closest_cluster]))\n",
    "            \n",
    "        s_item = (b - a)/max(a, b)\n",
    "        \n",
    "        silhouette.append(s_item)\n",
    "        \n",
    "    silhouette = np.array(silhouette)\n",
    "    return silhouette.mean()"
   ]
  },
  {
   "cell_type": "code",
   "execution_count": null,
   "metadata": {},
   "outputs": [],
   "source": [
    "def findClosestCluster(x, idx, centers):\n",
    "    \n",
    "    distans_to_clusters = list(euclidean_distances([list(x[idx])], centers)[0])\n",
    "    distans_to_clusters = [(distans_to_clusters[i], i) for i in range(len(distans_to_clusters))]\n",
    "    data_type = [('dist', float),('label', int)]\n",
    "\n",
    "    distans_to_clusters = np.array(distans_to_clusters, dtype = data_type)\n",
    "    distans_to_clusters = np.sort(distans_to_clusters, order = 'dist')\n",
    "    if(len(distans_to_clusters) == 1):\n",
    "         return distans_to_clusters[0]['label']\n",
    "    \n",
    "    return distans_to_clusters[1]['label']"
   ]
  }
 ],
 "metadata": {
  "kernelspec": {
   "display_name": "Python 3",
   "language": "python",
   "name": "python3"
  },
  "language_info": {
   "codemirror_mode": {
    "name": "ipython",
    "version": 3
   },
   "file_extension": ".py",
   "mimetype": "text/x-python",
   "name": "python",
   "nbconvert_exporter": "python",
   "pygments_lexer": "ipython3",
   "version": "3.7.4"
  }
 },
 "nbformat": 4,
 "nbformat_minor": 2
}
